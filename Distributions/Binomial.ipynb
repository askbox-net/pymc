{
 "cells": [
  {
   "cell_type": "markdown",
   "id": "aca25b93",
   "metadata": {},
   "source": [
    "# Binomial distribution (二項分布)"
   ]
  },
  {
   "cell_type": "code",
   "execution_count": 1,
   "id": "9aacecfa",
   "metadata": {},
   "outputs": [],
   "source": [
    "import pymc as pm\n",
    "import arviz as az"
   ]
  },
  {
   "cell_type": "code",
   "execution_count": null,
   "id": "b93be345",
   "metadata": {},
   "outputs": [
    {
     "name": "stderr",
     "output_type": "stream",
     "text": [
      "Multiprocess sampling (2 chains in 2 jobs)\n",
      "Metropolis: [Binomial]\n"
     ]
    }
   ],
   "source": [
    "with pm.Model() as model:\n",
    "    d = pm.Binomial('Binomial', n=6, p=0.2)\n",
    "    trace = pm.sample(4000)"
   ]
  },
  {
   "cell_type": "code",
   "execution_count": null,
   "id": "ef8478bb",
   "metadata": {},
   "outputs": [],
   "source": [
    "az.summary(trace)"
   ]
  },
  {
   "cell_type": "code",
   "execution_count": null,
   "id": "4a1319d0",
   "metadata": {},
   "outputs": [],
   "source": [
    "az.plot_trace(trace, compact=True)"
   ]
  },
  {
   "cell_type": "code",
   "execution_count": null,
   "id": "1d8262c4",
   "metadata": {},
   "outputs": [],
   "source": []
  }
 ],
 "metadata": {
  "kernelspec": {
   "display_name": "Python 3 (ipykernel)",
   "language": "python",
   "name": "python3"
  },
  "language_info": {
   "codemirror_mode": {
    "name": "ipython",
    "version": 3
   },
   "file_extension": ".py",
   "mimetype": "text/x-python",
   "name": "python",
   "nbconvert_exporter": "python",
   "pygments_lexer": "ipython3",
   "version": "3.10.11"
  }
 },
 "nbformat": 4,
 "nbformat_minor": 5
}
