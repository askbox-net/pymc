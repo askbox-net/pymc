{
 "cells": [
  {
   "cell_type": "markdown",
   "id": "17af9130",
   "metadata": {},
   "source": [
    "# Gamma distribution (ガンマ分布)"
   ]
  },
  {
   "cell_type": "code",
   "execution_count": 1,
   "id": "437b3529",
   "metadata": {},
   "outputs": [],
   "source": [
    "import pymc as pm\n",
    "import arviz as az"
   ]
  },
  {
   "cell_type": "code",
   "execution_count": 2,
   "id": "9a6d31d1",
   "metadata": {},
   "outputs": [
    {
     "ename": "AttributeError",
     "evalue": "module 'pymc' has no attribute 'Gramma'",
     "output_type": "error",
     "traceback": [
      "\u001b[0;31m---------------------------------------------------------------------------\u001b[0m",
      "\u001b[0;31mAttributeError\u001b[0m                            Traceback (most recent call last)",
      "Cell \u001b[0;32mIn[2], line 2\u001b[0m\n\u001b[1;32m      1\u001b[0m \u001b[38;5;28;01mwith\u001b[39;00m pm\u001b[38;5;241m.\u001b[39mModel() \u001b[38;5;28;01mas\u001b[39;00m model:\n\u001b[0;32m----> 2\u001b[0m     d \u001b[38;5;241m=\u001b[39m \u001b[43mpm\u001b[49m\u001b[38;5;241;43m.\u001b[39;49m\u001b[43mGramma\u001b[49m(\u001b[38;5;124m'\u001b[39m\u001b[38;5;124mGramma\u001b[39m\u001b[38;5;124m'\u001b[39m, alpha\u001b[38;5;241m=\u001b[39m\u001b[38;5;241m2\u001b[39m, beta\u001b[38;5;241m=\u001b[39m\u001b[38;5;241m0.5\u001b[39m)\n\u001b[1;32m      3\u001b[0m     trace \u001b[38;5;241m=\u001b[39m pm\u001b[38;5;241m.\u001b[39msample(\u001b[38;5;241m4000\u001b[39m, chains\u001b[38;5;241m=\u001b[39m\u001b[38;5;241m4\u001b[39m)\n",
      "\u001b[0;31mAttributeError\u001b[0m: module 'pymc' has no attribute 'Gramma'"
     ]
    }
   ],
   "source": [
    "with pm.Model() as model:\n",
    "    d = pm.Gramma('Gramma', alpha=2, beta=0.5)\n",
    "    trace = pm.sample(4000, chains=4)"
   ]
  },
  {
   "cell_type": "code",
   "execution_count": null,
   "id": "a30c9f7a",
   "metadata": {},
   "outputs": [],
   "source": []
  }
 ],
 "metadata": {
  "kernelspec": {
   "display_name": "Python 3 (ipykernel)",
   "language": "python",
   "name": "python3"
  },
  "language_info": {
   "codemirror_mode": {
    "name": "ipython",
    "version": 3
   },
   "file_extension": ".py",
   "mimetype": "text/x-python",
   "name": "python",
   "nbconvert_exporter": "python",
   "pygments_lexer": "ipython3",
   "version": "3.10.11"
  }
 },
 "nbformat": 4,
 "nbformat_minor": 5
}
